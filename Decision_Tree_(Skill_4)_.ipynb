{
  "nbformat": 4,
  "nbformat_minor": 0,
  "metadata": {
    "colab": {
      "name": "Decision Tree (Skill-4).",
      "provenance": []
    },
    "kernelspec": {
      "name": "python3",
      "display_name": "Python 3"
    },
    "language_info": {
      "name": "python"
    }
  },
  "cells": [
    {
      "cell_type": "markdown",
      "metadata": {
        "id": "QVEEYvZRylsF"
      },
      "source": [
        "Decision Tree is a Supervised learning technique that can be used for both classification and Regression problems, but mostly it is preferred for solving Classification problems. It is a tree-structured classifier, where internal nodes represent the features of a dataset, branches represent the decision rules and each leaf node represents the outcome.<br>\n",
        "It is a graphical representation for getting all the possible solutions to a problem/decision based on given conditions.<br>\n",
        "It is called a decision tree because, similar to a tree, it starts with the root node, which expands on further branches and constructs a tree-like structure.\n",
        "\n"
      ]
    },
    {
      "cell_type": "markdown",
      "metadata": {
        "id": "4UJpCQX52gvx"
      },
      "source": [
        "Attribute Selection Measure <br>\n",
        "The best attribute or feature is selected using the Attribute Selection Measure(ASM). The attribute selected is the root node feature.<br>\n",
        "\n",
        "Attribute selection measure is a technique used for the selecting best attribute for discrimination among tuples. It gives rank to each attribute and the best attribute is selected as splitting criterion.\n",
        "<br>\n",
        "The most popular methods of selection are:<br>\n",
        "\n",
        "Entropy<br>\n",
        "Information Gain<br>\n",
        "Gain Ratio<br>\n",
        "Gini Index<br>"
      ]
    },
    {
      "cell_type": "markdown",
      "metadata": {
        "id": "bXK6afiD2qop"
      },
      "source": [
        "1. Entropy <br>\n",
        "To understand information gain, we must first be familiar with the concept of entropy. Entropy is the randomness in the information being processed.<br>\n",
        "It measures the purity of the split. It is hard to draw conclusions from the information when the entropy increases. It ranges between 0 to 1. 1 means that it is a completely impure subset."
      ]
    },
    {
      "cell_type": "markdown",
      "metadata": {
        "id": "0YVPOp6Dy6Fm"
      },
      "source": [
        "![decision-tree-classification-algorithm.png](data:image/png;base64,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)"
      ]
    },
    {
      "cell_type": "markdown",
      "metadata": {
        "id": "Vcl5utXqy9j7"
      },
      "source": [
        "Entropy: Entropy is a metric to measure the impurity in a given attribute. It specifies randomness in data. Entropy can be calculated as: <br>\n",
        "\n",
        "Entropy(s)= -P(yes)log2 P(yes)- P(no) log2 P(no) <br>\n",
        "Where,<br>\n",
        "\n",
        "S= Total number of samples<br>\n",
        "P(yes)= probability of yes<br>\n",
        "P(no)= probability of no<br>"
      ]
    },
    {
      "cell_type": "code",
      "metadata": {
        "id": "HMDBfJ0BwsMc"
      },
      "source": [
        "import numpy as np\n",
        "import pandas as pd"
      ],
      "execution_count": 2,
      "outputs": []
    },
    {
      "cell_type": "code",
      "metadata": {
        "id": "joImmbdfyGga"
      },
      "source": [
        "df=pd.read_csv('skill-4-transfusion.data')"
      ],
      "execution_count": 3,
      "outputs": []
    },
    {
      "cell_type": "code",
      "metadata": {
        "colab": {
          "base_uri": "https://localhost:8080/",
          "height": 204
        },
        "id": "GhDBqghFyO65",
        "outputId": "ee3be5eb-1e1b-4211-af1f-f86e0eae00ba"
      },
      "source": [
        "df.head()"
      ],
      "execution_count": 4,
      "outputs": [
        {
          "output_type": "execute_result",
          "data": {
            "text/html": [
              "<div>\n",
              "<style scoped>\n",
              "    .dataframe tbody tr th:only-of-type {\n",
              "        vertical-align: middle;\n",
              "    }\n",
              "\n",
              "    .dataframe tbody tr th {\n",
              "        vertical-align: top;\n",
              "    }\n",
              "\n",
              "    .dataframe thead th {\n",
              "        text-align: right;\n",
              "    }\n",
              "</style>\n",
              "<table border=\"1\" class=\"dataframe\">\n",
              "  <thead>\n",
              "    <tr style=\"text-align: right;\">\n",
              "      <th></th>\n",
              "      <th>Recency (months)</th>\n",
              "      <th>Frequency (times)</th>\n",
              "      <th>Monetary (c.c. blood)</th>\n",
              "      <th>Time (months)</th>\n",
              "      <th>whether he/she donated blood in March 2007</th>\n",
              "    </tr>\n",
              "  </thead>\n",
              "  <tbody>\n",
              "    <tr>\n",
              "      <th>0</th>\n",
              "      <td>2</td>\n",
              "      <td>50</td>\n",
              "      <td>12500</td>\n",
              "      <td>98</td>\n",
              "      <td>1</td>\n",
              "    </tr>\n",
              "    <tr>\n",
              "      <th>1</th>\n",
              "      <td>0</td>\n",
              "      <td>13</td>\n",
              "      <td>3250</td>\n",
              "      <td>28</td>\n",
              "      <td>1</td>\n",
              "    </tr>\n",
              "    <tr>\n",
              "      <th>2</th>\n",
              "      <td>1</td>\n",
              "      <td>16</td>\n",
              "      <td>4000</td>\n",
              "      <td>35</td>\n",
              "      <td>1</td>\n",
              "    </tr>\n",
              "    <tr>\n",
              "      <th>3</th>\n",
              "      <td>2</td>\n",
              "      <td>20</td>\n",
              "      <td>5000</td>\n",
              "      <td>45</td>\n",
              "      <td>1</td>\n",
              "    </tr>\n",
              "    <tr>\n",
              "      <th>4</th>\n",
              "      <td>1</td>\n",
              "      <td>24</td>\n",
              "      <td>6000</td>\n",
              "      <td>77</td>\n",
              "      <td>0</td>\n",
              "    </tr>\n",
              "  </tbody>\n",
              "</table>\n",
              "</div>"
            ],
            "text/plain": [
              "   Recency (months)  ...  whether he/she donated blood in March 2007\n",
              "0                 2  ...                                           1\n",
              "1                 0  ...                                           1\n",
              "2                 1  ...                                           1\n",
              "3                 2  ...                                           1\n",
              "4                 1  ...                                           0\n",
              "\n",
              "[5 rows x 5 columns]"
            ]
          },
          "metadata": {
            "tags": []
          },
          "execution_count": 4
        }
      ]
    },
    {
      "cell_type": "markdown",
      "metadata": {
        "id": "tyaZO6RtzXjK"
      },
      "source": [
        "Data Pre-processing step <br>\n",
        "Fitting a Decision-Tree algorithm to the Training set<br>\n",
        "Predicting the test result<br>\n",
        "Test accuracy of the result(Creation of Confusion matrix)<br>\n",
        "Visualizing the test set result.<br>"
      ]
    },
    {
      "cell_type": "code",
      "metadata": {
        "id": "RAqh0WOezeh-"
      },
      "source": [
        "# importing libraries  \n",
        "import numpy as nm  \n",
        "import matplotlib.pyplot as mtp  \n",
        "import pandas as pd  \n",
        "  \n",
        "#Extracting Independent and dependent Variable  \n",
        "x= df.iloc[:, [2,3]].values  \n",
        "y= df.iloc[:, 4].values  \n",
        "  \n",
        "# Splitting the dataset into training and test set.  \n",
        "from sklearn.model_selection import train_test_split  \n",
        "x_train, x_test, y_train, y_test= train_test_split(x, y, test_size= 0.25, random_state=0)  \n",
        "  \n",
        "#feature Scaling  \n",
        "from sklearn.preprocessing import StandardScaler    \n",
        "st_x= StandardScaler()  \n",
        "x_train= st_x.fit_transform(x_train)    \n",
        "x_test= st_x.transform(x_test)   "
      ],
      "execution_count": 6,
      "outputs": []
    },
    {
      "cell_type": "code",
      "metadata": {
        "colab": {
          "base_uri": "https://localhost:8080/"
        },
        "id": "JG-_lW6AzukH",
        "outputId": "8d48f78d-bc50-4617-9528-da0f8d88517a"
      },
      "source": [
        "#Fitting Decision Tree classifier to the training set  \n",
        "from sklearn.tree import DecisionTreeClassifier  \n",
        "classifier= DecisionTreeClassifier(criterion='entropy', random_state=0)  \n",
        "classifier.fit(x_train, y_train)  "
      ],
      "execution_count": 8,
      "outputs": [
        {
          "output_type": "execute_result",
          "data": {
            "text/plain": [
              "DecisionTreeClassifier(ccp_alpha=0.0, class_weight=None, criterion='entropy',\n",
              "                       max_depth=None, max_features=None, max_leaf_nodes=None,\n",
              "                       min_impurity_decrease=0.0, min_impurity_split=None,\n",
              "                       min_samples_leaf=1, min_samples_split=2,\n",
              "                       min_weight_fraction_leaf=0.0, presort='deprecated',\n",
              "                       random_state=0, splitter='best')"
            ]
          },
          "metadata": {
            "tags": []
          },
          "execution_count": 8
        }
      ]
    },
    {
      "cell_type": "code",
      "metadata": {
        "id": "LKp4k1gWz1G-"
      },
      "source": [
        "#Predicting the test set result  \n",
        "y_pred= classifier.predict(x_test)  "
      ],
      "execution_count": 9,
      "outputs": []
    },
    {
      "cell_type": "code",
      "metadata": {
        "id": "1tT6yKLsz4VH"
      },
      "source": [
        "#Creating the Confusion matrix  \n",
        "from sklearn.metrics import confusion_matrix  \n",
        "cm= confusion_matrix(y_test, y_pred)  "
      ],
      "execution_count": 10,
      "outputs": []
    },
    {
      "cell_type": "code",
      "metadata": {
        "colab": {
          "base_uri": "https://localhost:8080/"
        },
        "id": "HeNOFK2pz7rj",
        "outputId": "a73bcec6-9b1f-40fb-816b-42e19dd196fb"
      },
      "source": [
        "cm"
      ],
      "execution_count": 11,
      "outputs": [
        {
          "output_type": "execute_result",
          "data": {
            "text/plain": [
              "array([[114,  18],\n",
              "       [ 36,  19]])"
            ]
          },
          "metadata": {
            "tags": []
          },
          "execution_count": 11
        }
      ]
    },
    {
      "cell_type": "code",
      "metadata": {
        "colab": {
          "base_uri": "https://localhost:8080/",
          "height": 282
        },
        "id": "Q7rPfdqH3UEA",
        "outputId": "d940ed03-8f7f-49c8-87f4-e5c427367dd3"
      },
      "source": [
        "import seaborn as sns\n",
        "sns.heatmap(cm, annot=True)\n",
        "sns.heatmap(cm/np.sum(cm), annot=True, \n",
        "            fmt='.2%', cmap='Blues')"
      ],
      "execution_count": 22,
      "outputs": [
        {
          "output_type": "execute_result",
          "data": {
            "text/plain": [
              "<matplotlib.axes._subplots.AxesSubplot at 0x7ff1f6d7b1d0>"
            ]
          },
          "metadata": {
            "tags": []
          },
          "execution_count": 22
        },
        {
          "output_type": "display_data",
          "data": {
            "image/png": "[encoded data removed]",
            "text/plain": [
              "<Figure size 432x288 with 3 Axes>"
            ]
          },
          "metadata": {
            "tags": [],
            "needs_background": "light"
          }
        }
      ]
    },
    {
      "cell_type": "code",
      "metadata": {
        "colab": {
          "base_uri": "https://localhost:8080/"
        },
        "id": "I0-3aRRMz--q",
        "outputId": "75c932c2-6016-41cd-c324-37e5cb09b30f"
      },
      "source": [
        "from sklearn import metrics\n",
        "print(\"Accuracy:\",metrics.accuracy_score(y_test, y_pred))\n"
      ],
      "execution_count": 14,
      "outputs": [
        {
          "output_type": "stream",
          "text": [
            "Accuracy: 0.7112299465240641\n"
          ],
          "name": "stdout"
        }
      ]
    }
  ]
}