{
  "nbformat": 4,
  "nbformat_minor": 0,
  "metadata": {
    "colab": {
      "name": "Linear Regression",
      "provenance": [],
      "collapsed_sections": []
    },
    "kernelspec": {
      "name": "python3",
      "display_name": "Python 3"
    },
    "language_info": {
      "name": "python"
    }
  },
  "cells": [
    {
      "cell_type": "markdown",
      "metadata": {
        "id": "oGUgbwKyekqa"
      },
      "source": [
        "**LINEAR** **REGRESSION**"
      ]
    },
    {
      "cell_type": "markdown",
      "metadata": {
        "id": "5xr5qzKvfRnM"
      },
      "source": [
        "Linear Regression is a machine learning algorithm based on supervised learning. ... Linear regression performs the task to predict a dependent variable value (y) based on a given independent variable (x). So, this regression technique finds out a linear relationship between x (input) and y(output)."
      ]
    },
    {
      "cell_type": "markdown",
      "metadata": {
        "id": "wu3hqJ-pfkAt"
      },
      "source": [
        "we summarize 2 basic steps of Machine Learning as per below:\n",
        "Training\n",
        "Predict\n",
        "we will use 4 libraries such as numpy and pandas to work with data set, sklearn to implement machine learning functions, and matplotlib to visualize our plots for viewing:"
      ]
    },
    {
      "cell_type": "code",
      "metadata": {
        "id": "GKWFDpqDcjQj"
      },
      "source": [
        "import pandas as pd\n",
        "import numpy as np\n",
        "import matplotlib.pyplot as plt\n",
        "import pandas as pd"
      ],
      "execution_count": null,
      "outputs": []
    },
    {
      "cell_type": "code",
      "metadata": {
        "id": "-i01QjRtegum"
      },
      "source": [
        "df=pd.read_csv(\"auto-mpg.csv\")"
      ],
      "execution_count": null,
      "outputs": []
    },
    {
      "cell_type": "code",
      "metadata": {
        "colab": {
          "base_uri": "https://localhost:8080/",
          "height": 204
        },
        "id": "Vg4FwGi4e7fV",
        "outputId": "12657708-d2ac-47d7-f9d8-ab632c6da564"
      },
      "source": [
        "df.head()"
      ],
      "execution_count": null,
      "outputs": [
        {
          "output_type": "execute_result",
          "data": {
            "text/html": [
              "<div>\n",
              "<style scoped>\n",
              "    .dataframe tbody tr th:only-of-type {\n",
              "        vertical-align: middle;\n",
              "    }\n",
              "\n",
              "    .dataframe tbody tr th {\n",
              "        vertical-align: top;\n",
              "    }\n",
              "\n",
              "    .dataframe thead th {\n",
              "        text-align: right;\n",
              "    }\n",
              "</style>\n",
              "<table border=\"1\" class=\"dataframe\">\n",
              "  <thead>\n",
              "    <tr style=\"text-align: right;\">\n",
              "      <th></th>\n",
              "      <th>mpg</th>\n",
              "      <th>cylinders</th>\n",
              "      <th>displacement</th>\n",
              "      <th>horsepower</th>\n",
              "      <th>weight</th>\n",
              "      <th>acceleration</th>\n",
              "      <th>model year</th>\n",
              "      <th>origin</th>\n",
              "      <th>car name</th>\n",
              "    </tr>\n",
              "  </thead>\n",
              "  <tbody>\n",
              "    <tr>\n",
              "      <th>0</th>\n",
              "      <td>18.0</td>\n",
              "      <td>8</td>\n",
              "      <td>307.0</td>\n",
              "      <td>130</td>\n",
              "      <td>3504</td>\n",
              "      <td>12.0</td>\n",
              "      <td>70</td>\n",
              "      <td>1</td>\n",
              "      <td>chevrolet chevelle malibu</td>\n",
              "    </tr>\n",
              "    <tr>\n",
              "      <th>1</th>\n",
              "      <td>15.0</td>\n",
              "      <td>8</td>\n",
              "      <td>350.0</td>\n",
              "      <td>165</td>\n",
              "      <td>3693</td>\n",
              "      <td>11.5</td>\n",
              "      <td>70</td>\n",
              "      <td>1</td>\n",
              "      <td>buick skylark 320</td>\n",
              "    </tr>\n",
              "    <tr>\n",
              "      <th>2</th>\n",
              "      <td>18.0</td>\n",
              "      <td>8</td>\n",
              "      <td>318.0</td>\n",
              "      <td>150</td>\n",
              "      <td>3436</td>\n",
              "      <td>11.0</td>\n",
              "      <td>70</td>\n",
              "      <td>1</td>\n",
              "      <td>plymouth satellite</td>\n",
              "    </tr>\n",
              "    <tr>\n",
              "      <th>3</th>\n",
              "      <td>16.0</td>\n",
              "      <td>8</td>\n",
              "      <td>304.0</td>\n",
              "      <td>150</td>\n",
              "      <td>3433</td>\n",
              "      <td>12.0</td>\n",
              "      <td>70</td>\n",
              "      <td>1</td>\n",
              "      <td>amc rebel sst</td>\n",
              "    </tr>\n",
              "    <tr>\n",
              "      <th>4</th>\n",
              "      <td>17.0</td>\n",
              "      <td>8</td>\n",
              "      <td>302.0</td>\n",
              "      <td>140</td>\n",
              "      <td>3449</td>\n",
              "      <td>10.5</td>\n",
              "      <td>70</td>\n",
              "      <td>1</td>\n",
              "      <td>ford torino</td>\n",
              "    </tr>\n",
              "  </tbody>\n",
              "</table>\n",
              "</div>"
            ],
            "text/plain": [
              "    mpg  cylinders  displacement  ... model year  origin                   car name\n",
              "0  18.0          8         307.0  ...         70       1  chevrolet chevelle malibu\n",
              "1  15.0          8         350.0  ...         70       1          buick skylark 320\n",
              "2  18.0          8         318.0  ...         70       1         plymouth satellite\n",
              "3  16.0          8         304.0  ...         70       1              amc rebel sst\n",
              "4  17.0          8         302.0  ...         70       1                ford torino\n",
              "\n",
              "[5 rows x 9 columns]"
            ]
          },
          "metadata": {
            "tags": []
          },
          "execution_count": 33
        }
      ]
    },
    {
      "cell_type": "markdown",
      "metadata": {
        "id": "j_zE0FeCi8ha"
      },
      "source": [
        "**Finding** **out** **Correlation**\n",
        "Correlation explains how one or more variables are related to each other"
      ]
    },
    {
      "cell_type": "code",
      "metadata": {
        "id": "kWN1TyRSiyti"
      },
      "source": [
        "cor_matrix = df.corr().abs()\n"
      ],
      "execution_count": null,
      "outputs": []
    },
    {
      "cell_type": "code",
      "metadata": {
        "colab": {
          "base_uri": "https://localhost:8080/",
          "height": 266
        },
        "id": "wKCtbhOYkjEx",
        "outputId": "b93349cf-681a-478d-ba07-c3038fc7e88d"
      },
      "source": [
        "cor_matrix"
      ],
      "execution_count": null,
      "outputs": [
        {
          "output_type": "execute_result",
          "data": {
            "text/html": [
              "<div>\n",
              "<style scoped>\n",
              "    .dataframe tbody tr th:only-of-type {\n",
              "        vertical-align: middle;\n",
              "    }\n",
              "\n",
              "    .dataframe tbody tr th {\n",
              "        vertical-align: top;\n",
              "    }\n",
              "\n",
              "    .dataframe thead th {\n",
              "        text-align: right;\n",
              "    }\n",
              "</style>\n",
              "<table border=\"1\" class=\"dataframe\">\n",
              "  <thead>\n",
              "    <tr style=\"text-align: right;\">\n",
              "      <th></th>\n",
              "      <th>mpg</th>\n",
              "      <th>cylinders</th>\n",
              "      <th>displacement</th>\n",
              "      <th>weight</th>\n",
              "      <th>acceleration</th>\n",
              "      <th>model year</th>\n",
              "      <th>origin</th>\n",
              "    </tr>\n",
              "  </thead>\n",
              "  <tbody>\n",
              "    <tr>\n",
              "      <th>mpg</th>\n",
              "      <td>1.000000</td>\n",
              "      <td>0.775396</td>\n",
              "      <td>0.804203</td>\n",
              "      <td>0.831741</td>\n",
              "      <td>0.420289</td>\n",
              "      <td>0.579267</td>\n",
              "      <td>0.563450</td>\n",
              "    </tr>\n",
              "    <tr>\n",
              "      <th>cylinders</th>\n",
              "      <td>0.775396</td>\n",
              "      <td>1.000000</td>\n",
              "      <td>0.950721</td>\n",
              "      <td>0.896017</td>\n",
              "      <td>0.505419</td>\n",
              "      <td>0.348746</td>\n",
              "      <td>0.562543</td>\n",
              "    </tr>\n",
              "    <tr>\n",
              "      <th>displacement</th>\n",
              "      <td>0.804203</td>\n",
              "      <td>0.950721</td>\n",
              "      <td>1.000000</td>\n",
              "      <td>0.932824</td>\n",
              "      <td>0.543684</td>\n",
              "      <td>0.370164</td>\n",
              "      <td>0.609409</td>\n",
              "    </tr>\n",
              "    <tr>\n",
              "      <th>weight</th>\n",
              "      <td>0.831741</td>\n",
              "      <td>0.896017</td>\n",
              "      <td>0.932824</td>\n",
              "      <td>1.000000</td>\n",
              "      <td>0.417457</td>\n",
              "      <td>0.306564</td>\n",
              "      <td>0.581024</td>\n",
              "    </tr>\n",
              "    <tr>\n",
              "      <th>acceleration</th>\n",
              "      <td>0.420289</td>\n",
              "      <td>0.505419</td>\n",
              "      <td>0.543684</td>\n",
              "      <td>0.417457</td>\n",
              "      <td>1.000000</td>\n",
              "      <td>0.288137</td>\n",
              "      <td>0.205873</td>\n",
              "    </tr>\n",
              "    <tr>\n",
              "      <th>model year</th>\n",
              "      <td>0.579267</td>\n",
              "      <td>0.348746</td>\n",
              "      <td>0.370164</td>\n",
              "      <td>0.306564</td>\n",
              "      <td>0.288137</td>\n",
              "      <td>1.000000</td>\n",
              "      <td>0.180662</td>\n",
              "    </tr>\n",
              "    <tr>\n",
              "      <th>origin</th>\n",
              "      <td>0.563450</td>\n",
              "      <td>0.562543</td>\n",
              "      <td>0.609409</td>\n",
              "      <td>0.581024</td>\n",
              "      <td>0.205873</td>\n",
              "      <td>0.180662</td>\n",
              "      <td>1.000000</td>\n",
              "    </tr>\n",
              "  </tbody>\n",
              "</table>\n",
              "</div>"
            ],
            "text/plain": [
              "                   mpg  cylinders  ...  model year    origin\n",
              "mpg           1.000000   0.775396  ...    0.579267  0.563450\n",
              "cylinders     0.775396   1.000000  ...    0.348746  0.562543\n",
              "displacement  0.804203   0.950721  ...    0.370164  0.609409\n",
              "weight        0.831741   0.896017  ...    0.306564  0.581024\n",
              "acceleration  0.420289   0.505419  ...    0.288137  0.205873\n",
              "model year    0.579267   0.348746  ...    1.000000  0.180662\n",
              "origin        0.563450   0.562543  ...    0.180662  1.000000\n",
              "\n",
              "[7 rows x 7 columns]"
            ]
          },
          "metadata": {
            "tags": []
          },
          "execution_count": 35
        }
      ]
    },
    {
      "cell_type": "markdown",
      "metadata": {
        "id": "yUq9Cq-PkZPc"
      },
      "source": [
        ""
      ]
    },
    {
      "cell_type": "code",
      "metadata": {
        "colab": {
          "base_uri": "https://localhost:8080/"
        },
        "id": "suCnXZMJkulO",
        "outputId": "213e7962-7ecb-464e-c53a-f4f5a0c92bb5"
      },
      "source": [
        "upper_tri = cor_matrix.where(np.triu(np.ones(cor_matrix.shape),k=1).astype(np.bool))\n",
        "print(upper_tri)"
      ],
      "execution_count": null,
      "outputs": [
        {
          "output_type": "stream",
          "text": [
            "              mpg  cylinders  displacement  ...  acceleration  model year    origin\n",
            "mpg           NaN   0.775396      0.804203  ...      0.420289    0.579267  0.563450\n",
            "cylinders     NaN        NaN      0.950721  ...      0.505419    0.348746  0.562543\n",
            "displacement  NaN        NaN           NaN  ...      0.543684    0.370164  0.609409\n",
            "weight        NaN        NaN           NaN  ...      0.417457    0.306564  0.581024\n",
            "acceleration  NaN        NaN           NaN  ...           NaN    0.288137  0.205873\n",
            "model year    NaN        NaN           NaN  ...           NaN         NaN  0.180662\n",
            "origin        NaN        NaN           NaN  ...           NaN         NaN       NaN\n",
            "\n",
            "[7 rows x 7 columns]\n"
          ],
          "name": "stdout"
        }
      ]
    },
    {
      "cell_type": "code",
      "metadata": {
        "colab": {
          "base_uri": "https://localhost:8080/"
        },
        "id": "6boCh8JMkASb",
        "outputId": "c499fbd0-d069-414f-b5f5-c92b4e3f2d7b"
      },
      "source": [
        "to_drop = [column for column in upper_tri.columns if any(upper_tri[column] > 0.95)]\n",
        "print(to_drop)"
      ],
      "execution_count": null,
      "outputs": [
        {
          "output_type": "stream",
          "text": [
            "['displacement']\n"
          ],
          "name": "stdout"
        }
      ]
    },
    {
      "cell_type": "code",
      "metadata": {
        "colab": {
          "base_uri": "https://localhost:8080/"
        },
        "id": "TGbuVlE_lFq6",
        "outputId": "c17b4e9e-2d15-46b1-ab4a-585be1ff55c4"
      },
      "source": [
        "print(X)"
      ],
      "execution_count": null,
      "outputs": [
        {
          "output_type": "stream",
          "text": [
            "[[18. ]\n",
            " [15. ]\n",
            " [18. ]\n",
            " [16. ]\n",
            " [17. ]\n",
            " [15. ]\n",
            " [14. ]\n",
            " [14. ]\n",
            " [14. ]\n",
            " [15. ]\n",
            " [15. ]\n",
            " [14. ]\n",
            " [15. ]\n",
            " [14. ]\n",
            " [24. ]\n",
            " [22. ]\n",
            " [18. ]\n",
            " [21. ]\n",
            " [27. ]\n",
            " [26. ]\n",
            " [25. ]\n",
            " [24. ]\n",
            " [25. ]\n",
            " [26. ]\n",
            " [21. ]\n",
            " [10. ]\n",
            " [10. ]\n",
            " [11. ]\n",
            " [ 9. ]\n",
            " [27. ]\n",
            " [28. ]\n",
            " [25. ]\n",
            " [25. ]\n",
            " [19. ]\n",
            " [16. ]\n",
            " [17. ]\n",
            " [19. ]\n",
            " [18. ]\n",
            " [14. ]\n",
            " [14. ]\n",
            " [14. ]\n",
            " [14. ]\n",
            " [12. ]\n",
            " [13. ]\n",
            " [13. ]\n",
            " [18. ]\n",
            " [22. ]\n",
            " [19. ]\n",
            " [18. ]\n",
            " [23. ]\n",
            " [28. ]\n",
            " [30. ]\n",
            " [30. ]\n",
            " [31. ]\n",
            " [35. ]\n",
            " [27. ]\n",
            " [26. ]\n",
            " [24. ]\n",
            " [25. ]\n",
            " [23. ]\n",
            " [20. ]\n",
            " [21. ]\n",
            " [13. ]\n",
            " [14. ]\n",
            " [15. ]\n",
            " [14. ]\n",
            " [17. ]\n",
            " [11. ]\n",
            " [13. ]\n",
            " [12. ]\n",
            " [13. ]\n",
            " [19. ]\n",
            " [15. ]\n",
            " [13. ]\n",
            " [13. ]\n",
            " [14. ]\n",
            " [18. ]\n",
            " [22. ]\n",
            " [21. ]\n",
            " [26. ]\n",
            " [22. ]\n",
            " [28. ]\n",
            " [23. ]\n",
            " [28. ]\n",
            " [27. ]\n",
            " [13. ]\n",
            " [14. ]\n",
            " [13. ]\n",
            " [14. ]\n",
            " [15. ]\n",
            " [12. ]\n",
            " [13. ]\n",
            " [13. ]\n",
            " [14. ]\n",
            " [13. ]\n",
            " [12. ]\n",
            " [13. ]\n",
            " [18. ]\n",
            " [16. ]\n",
            " [18. ]\n",
            " [18. ]\n",
            " [23. ]\n",
            " [26. ]\n",
            " [11. ]\n",
            " [12. ]\n",
            " [13. ]\n",
            " [12. ]\n",
            " [18. ]\n",
            " [20. ]\n",
            " [21. ]\n",
            " [22. ]\n",
            " [18. ]\n",
            " [19. ]\n",
            " [21. ]\n",
            " [26. ]\n",
            " [15. ]\n",
            " [16. ]\n",
            " [29. ]\n",
            " [24. ]\n",
            " [20. ]\n",
            " [19. ]\n",
            " [15. ]\n",
            " [24. ]\n",
            " [20. ]\n",
            " [11. ]\n",
            " [20. ]\n",
            " [21. ]\n",
            " [19. ]\n",
            " [15. ]\n",
            " [31. ]\n",
            " [26. ]\n",
            " [32. ]\n",
            " [25. ]\n",
            " [16. ]\n",
            " [16. ]\n",
            " [18. ]\n",
            " [16. ]\n",
            " [13. ]\n",
            " [14. ]\n",
            " [14. ]\n",
            " [14. ]\n",
            " [29. ]\n",
            " [26. ]\n",
            " [26. ]\n",
            " [31. ]\n",
            " [32. ]\n",
            " [28. ]\n",
            " [24. ]\n",
            " [26. ]\n",
            " [24. ]\n",
            " [26. ]\n",
            " [31. ]\n",
            " [19. ]\n",
            " [18. ]\n",
            " [15. ]\n",
            " [15. ]\n",
            " [16. ]\n",
            " [15. ]\n",
            " [16. ]\n",
            " [14. ]\n",
            " [17. ]\n",
            " [16. ]\n",
            " [15. ]\n",
            " [18. ]\n",
            " [21. ]\n",
            " [20. ]\n",
            " [13. ]\n",
            " [29. ]\n",
            " [23. ]\n",
            " [20. ]\n",
            " [23. ]\n",
            " [24. ]\n",
            " [25. ]\n",
            " [24. ]\n",
            " [18. ]\n",
            " [29. ]\n",
            " [19. ]\n",
            " [23. ]\n",
            " [23. ]\n",
            " [22. ]\n",
            " [25. ]\n",
            " [33. ]\n",
            " [28. ]\n",
            " [25. ]\n",
            " [25. ]\n",
            " [26. ]\n",
            " [27. ]\n",
            " [17.5]\n",
            " [16. ]\n",
            " [15.5]\n",
            " [14.5]\n",
            " [22. ]\n",
            " [22. ]\n",
            " [24. ]\n",
            " [22.5]\n",
            " [29. ]\n",
            " [24.5]\n",
            " [29. ]\n",
            " [33. ]\n",
            " [20. ]\n",
            " [18. ]\n",
            " [18.5]\n",
            " [17.5]\n",
            " [29.5]\n",
            " [32. ]\n",
            " [28. ]\n",
            " [26.5]\n",
            " [20. ]\n",
            " [13. ]\n",
            " [19. ]\n",
            " [19. ]\n",
            " [16.5]\n",
            " [16.5]\n",
            " [13. ]\n",
            " [13. ]\n",
            " [13. ]\n",
            " [31.5]\n",
            " [30. ]\n",
            " [36. ]\n",
            " [25.5]\n",
            " [33.5]\n",
            " [17.5]\n",
            " [17. ]\n",
            " [15.5]\n",
            " [15. ]\n",
            " [17.5]\n",
            " [20.5]\n",
            " [19. ]\n",
            " [18.5]\n",
            " [16. ]\n",
            " [15.5]\n",
            " [15.5]\n",
            " [16. ]\n",
            " [29. ]\n",
            " [24.5]\n",
            " [26. ]\n",
            " [25.5]\n",
            " [30.5]\n",
            " [33.5]\n",
            " [30. ]\n",
            " [30.5]\n",
            " [22. ]\n",
            " [21.5]\n",
            " [21.5]\n",
            " [43.1]\n",
            " [36.1]\n",
            " [32.8]\n",
            " [39.4]\n",
            " [36.1]\n",
            " [19.9]\n",
            " [19.4]\n",
            " [20.2]\n",
            " [19.2]\n",
            " [20.5]\n",
            " [20.2]\n",
            " [25.1]\n",
            " [20.5]\n",
            " [19.4]\n",
            " [20.6]\n",
            " [20.8]\n",
            " [18.6]\n",
            " [18.1]\n",
            " [19.2]\n",
            " [17.7]\n",
            " [18.1]\n",
            " [17.5]\n",
            " [30. ]\n",
            " [27.5]\n",
            " [27.2]\n",
            " [30.9]\n",
            " [21.1]\n",
            " [23.2]\n",
            " [23.8]\n",
            " [23.9]\n",
            " [20.3]\n",
            " [17. ]\n",
            " [21.6]\n",
            " [16.2]\n",
            " [31.5]\n",
            " [29.5]\n",
            " [21.5]\n",
            " [19.8]\n",
            " [22.3]\n",
            " [20.2]\n",
            " [20.6]\n",
            " [17. ]\n",
            " [17.6]\n",
            " [16.5]\n",
            " [18.2]\n",
            " [16.9]\n",
            " [15.5]\n",
            " [19.2]\n",
            " [18.5]\n",
            " [31.9]\n",
            " [34.1]\n",
            " [35.7]\n",
            " [27.4]\n",
            " [25.4]\n",
            " [23. ]\n",
            " [27.2]\n",
            " [23.9]\n",
            " [34.2]\n",
            " [34.5]\n",
            " [31.8]\n",
            " [37.3]\n",
            " [28.4]\n",
            " [28.8]\n",
            " [26.8]\n",
            " [33.5]\n",
            " [41.5]\n",
            " [38.1]\n",
            " [32.1]\n",
            " [37.2]\n",
            " [28. ]\n",
            " [26.4]\n",
            " [24.3]\n",
            " [19.1]\n",
            " [34.3]\n",
            " [29.8]\n",
            " [31.3]\n",
            " [37. ]\n",
            " [32.2]\n",
            " [46.6]\n",
            " [27.9]\n",
            " [40.8]\n",
            " [44.3]\n",
            " [43.4]\n",
            " [36.4]\n",
            " [30. ]\n",
            " [44.6]\n",
            " [40.9]\n",
            " [33.8]\n",
            " [29.8]\n",
            " [32.7]\n",
            " [23.7]\n",
            " [35. ]\n",
            " [23.6]\n",
            " [32.4]\n",
            " [27.2]\n",
            " [26.6]\n",
            " [25.8]\n",
            " [23.5]\n",
            " [30. ]\n",
            " [39.1]\n",
            " [39. ]\n",
            " [35.1]\n",
            " [32.3]\n",
            " [37. ]\n",
            " [37.7]\n",
            " [34.1]\n",
            " [34.7]\n",
            " [34.4]\n",
            " [29.9]\n",
            " [33. ]\n",
            " [34.5]\n",
            " [33.7]\n",
            " [32.4]\n",
            " [32.9]\n",
            " [31.6]\n",
            " [28.1]\n",
            " [30.7]\n",
            " [25.4]\n",
            " [24.2]\n",
            " [22.4]\n",
            " [26.6]\n",
            " [20.2]\n",
            " [17.6]\n",
            " [28. ]\n",
            " [27. ]\n",
            " [34. ]\n",
            " [31. ]\n",
            " [29. ]\n",
            " [27. ]\n",
            " [24. ]\n",
            " [23. ]\n",
            " [36. ]\n",
            " [37. ]\n",
            " [31. ]\n",
            " [38. ]\n",
            " [36. ]\n",
            " [36. ]\n",
            " [36. ]\n",
            " [34. ]\n",
            " [38. ]\n",
            " [32. ]\n",
            " [38. ]\n",
            " [25. ]\n",
            " [38. ]\n",
            " [26. ]\n",
            " [22. ]\n",
            " [32. ]\n",
            " [36. ]\n",
            " [27. ]\n",
            " [27. ]\n",
            " [44. ]\n",
            " [32. ]\n",
            " [28. ]\n",
            " [31. ]]\n"
          ],
          "name": "stdout"
        }
      ]
    },
    {
      "cell_type": "markdown",
      "metadata": {
        "id": "4lYr0kHIfzJJ"
      },
      "source": [
        ""
      ]
    },
    {
      "cell_type": "code",
      "metadata": {
        "id": "A-6Hs4Grf_Pr"
      },
      "source": [
        "df1 = pd.DataFrame(df,columns=['mpg','displacement'])\n"
      ],
      "execution_count": null,
      "outputs": []
    },
    {
      "cell_type": "code",
      "metadata": {
        "colab": {
          "base_uri": "https://localhost:8080/",
          "height": 204
        },
        "id": "q2j9O_famaVk",
        "outputId": "709c0321-fb0b-4c4f-9e72-46a84e1a761c"
      },
      "source": [
        "df1.head()"
      ],
      "execution_count": null,
      "outputs": [
        {
          "output_type": "execute_result",
          "data": {
            "text/html": [
              "<div>\n",
              "<style scoped>\n",
              "    .dataframe tbody tr th:only-of-type {\n",
              "        vertical-align: middle;\n",
              "    }\n",
              "\n",
              "    .dataframe tbody tr th {\n",
              "        vertical-align: top;\n",
              "    }\n",
              "\n",
              "    .dataframe thead th {\n",
              "        text-align: right;\n",
              "    }\n",
              "</style>\n",
              "<table border=\"1\" class=\"dataframe\">\n",
              "  <thead>\n",
              "    <tr style=\"text-align: right;\">\n",
              "      <th></th>\n",
              "      <th>mpg</th>\n",
              "      <th>displacement</th>\n",
              "    </tr>\n",
              "  </thead>\n",
              "  <tbody>\n",
              "    <tr>\n",
              "      <th>0</th>\n",
              "      <td>18.0</td>\n",
              "      <td>307.0</td>\n",
              "    </tr>\n",
              "    <tr>\n",
              "      <th>1</th>\n",
              "      <td>15.0</td>\n",
              "      <td>350.0</td>\n",
              "    </tr>\n",
              "    <tr>\n",
              "      <th>2</th>\n",
              "      <td>18.0</td>\n",
              "      <td>318.0</td>\n",
              "    </tr>\n",
              "    <tr>\n",
              "      <th>3</th>\n",
              "      <td>16.0</td>\n",
              "      <td>304.0</td>\n",
              "    </tr>\n",
              "    <tr>\n",
              "      <th>4</th>\n",
              "      <td>17.0</td>\n",
              "      <td>302.0</td>\n",
              "    </tr>\n",
              "  </tbody>\n",
              "</table>\n",
              "</div>"
            ],
            "text/plain": [
              "    mpg  displacement\n",
              "0  18.0         307.0\n",
              "1  15.0         350.0\n",
              "2  18.0         318.0\n",
              "3  16.0         304.0\n",
              "4  17.0         302.0"
            ]
          },
          "metadata": {
            "tags": []
          },
          "execution_count": 40
        }
      ]
    },
    {
      "cell_type": "code",
      "metadata": {
        "id": "iXkEBhpzmfED"
      },
      "source": [
        "X =df1.iloc[:, :-1].values #get a copy of dataset exclude last column\n",
        "y = df1.iloc[:, 1].values #get array of dataset in column 1st"
      ],
      "execution_count": null,
      "outputs": []
    },
    {
      "cell_type": "code",
      "metadata": {
        "id": "do5s9ELlnNyk"
      },
      "source": [
        "# Splitting the dataset into the Training set and Test set\n",
        "from sklearn.model_selection import train_test_split \n",
        "X_train, X_test, y_train, y_test = train_test_split(X, y, random_state=0)"
      ],
      "execution_count": null,
      "outputs": []
    },
    {
      "cell_type": "code",
      "metadata": {
        "colab": {
          "base_uri": "https://localhost:8080/"
        },
        "id": "wuxx8bdcnY3w",
        "outputId": "d03d4144-0d86-426b-e523-3d22c7f675d0"
      },
      "source": [
        "# Fitting Simple Linear Regression to the Training set\n",
        "from sklearn.linear_model import LinearRegression\n",
        "regressor = LinearRegression()\n",
        "regressor.fit(X_train, y_train)"
      ],
      "execution_count": null,
      "outputs": [
        {
          "output_type": "execute_result",
          "data": {
            "text/plain": [
              "LinearRegression(copy_X=True, fit_intercept=True, n_jobs=None, normalize=False)"
            ]
          },
          "metadata": {
            "tags": []
          },
          "execution_count": 43
        }
      ]
    },
    {
      "cell_type": "code",
      "metadata": {
        "colab": {
          "base_uri": "https://localhost:8080/",
          "height": 295
        },
        "id": "eBsfBWIhndOt",
        "outputId": "25a3a3a1-345f-4e1d-d98b-425bd8a0591b"
      },
      "source": [
        "# Visualizing the Training set results\n",
        "viz_train = plt\n",
        "viz_train.scatter(X_train, y_train, color='red')\n",
        "viz_train.plot(X_train, regressor.predict(X_train), color='blue')\n",
        "viz_train.title('mpg VS Displacement (Training set)')\n",
        "viz_train.xlabel('mpg')\n",
        "viz_train.ylabel('Displacement')\n",
        "viz_train.show()"
      ],
      "execution_count": null,
      "outputs": [
        {
          "output_type": "display_data",
          "data": {
            "image/png": "[encoded data removed]",
            "text/plain": [
              "<Figure size 432x288 with 1 Axes>"
            ]
          },
          "metadata": {
            "tags": [],
            "needs_background": "light"
          }
        }
      ]
    },
    {
      "cell_type": "code",
      "metadata": {
        "colab": {
          "base_uri": "https://localhost:8080/",
          "height": 295
        },
        "id": "d9oUc3FqgHbG",
        "outputId": "b6611ae8-925d-495b-f259-4e9a0074da99"
      },
      "source": [
        "# Visualizing the Test set results\n",
        "viz_test = plt\n",
        "viz_test.scatter(X_test, y_test, color='red')\n",
        "viz_test.plot(X_train, regressor.predict(X_train), color='blue')\n",
        "viz_test.title('mpg VS Displacement (Test set)')\n",
        "viz_test.xlabel('mpg')\n",
        "viz_test.ylabel('Displacement')\n",
        "viz_test.show()"
      ],
      "execution_count": null,
      "outputs": [
        {
          "output_type": "display_data",
          "data": {
            "image/png": "[encoded data removed]",
            "text/plain": [
              "<Figure size 432x288 with 1 Axes>"
            ]
          },
          "metadata": {
            "tags": [],
            "needs_background": "light"
          }
        }
      ]
    },
    {
      "cell_type": "code",
      "metadata": {
        "id": "_A6tVAR0qN0t"
      },
      "source": [
        "# Predicting the Test set results\n",
        "y_pred = regressor.predict(X_test)\n"
      ],
      "execution_count": null,
      "outputs": []
    },
    {
      "cell_type": "markdown",
      "metadata": {
        "id": "47yk6kXypF0p"
      },
      "source": [
        "**What** **is** **r2** **score?**\n"
      ]
    },
    {
      "cell_type": "markdown",
      "metadata": {
        "id": "t122Z5MfpNEN"
      },
      "source": [
        "(total variance explained by model) / total variance.” So if it is 100%, the two variables are perfectly correlated, i.e., with no variance at all. A low value would show a low level of correlation, meaning a regression model that is not valid, but not in all cases."
      ]
    },
    {
      "cell_type": "code",
      "metadata": {
        "id": "FbqoAJ1Tqmor"
      },
      "source": [
        "from sklearn.metrics import mean_squared_error, r2_score\n"
      ],
      "execution_count": null,
      "outputs": []
    },
    {
      "cell_type": "markdown",
      "metadata": {
        "id": "fL7jAjpZrmu9"
      },
      "source": [
        "The R² value ranges from 0 to 1, with higher values denoting a strong fit, and lower values denoting a weak fit. "
      ]
    },
    {
      "cell_type": "markdown",
      "metadata": {
        "id": "mMzwIRPZrtUA"
      },
      "source": [
        "R² < 0.5 → Weak fit\n",
        "0.5 ≤ R² ≤ 0.8 → Moderate fit\n",
        "R² > 0.8 → Strong fit"
      ]
    },
    {
      "cell_type": "code",
      "metadata": {
        "colab": {
          "base_uri": "https://localhost:8080/"
        },
        "id": "GtBih3rgpN-K",
        "outputId": "702cc4b5-6f2c-43a6-e39d-57c29d7d12ff"
      },
      "source": [
        "print(\"R2 score : %.2f\" % r2_score(y_test,y_pred))\n"
      ],
      "execution_count": null,
      "outputs": [
        {
          "output_type": "stream",
          "text": [
            "R2 score : 0.68\n"
          ],
          "name": "stdout"
        }
      ]
    },
    {
      "cell_type": "markdown",
      "metadata": {
        "id": "EPsYyJxGr1S7"
      },
      "source": [
        " lower the MSE, the less error in the model."
      ]
    },
    {
      "cell_type": "code",
      "metadata": {
        "colab": {
          "base_uri": "https://localhost:8080/"
        },
        "id": "dfU1-iVVq4Lr",
        "outputId": "aaa5766b-5a07-4545-ebf7-834eea7c94d8"
      },
      "source": [
        "print(\"Mean squared error: %.2f\" % mean_squared_error(y_test,y_pred))"
      ],
      "execution_count": null,
      "outputs": [
        {
          "output_type": "stream",
          "text": [
            "Mean squared error: 3897.68\n"
          ],
          "name": "stdout"
        }
      ]
    },
    {
      "cell_type": "code",
      "metadata": {
        "id": "JBl5WYWOoJZP"
      },
      "source": [
        ""
      ],
      "execution_count": null,
      "outputs": []
    },
    {
      "cell_type": "code",
      "metadata": {
        "id": "K9vXdW0Vf2RT"
      },
      "source": [
        ""
      ],
      "execution_count": null,
      "outputs": []
    }
  ]
}